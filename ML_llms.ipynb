{
  "nbformat": 4,
  "nbformat_minor": 0,
  "metadata": {
    "colab": {
      "provenance": []
    },
    "kernelspec": {
      "name": "python3",
      "display_name": "Python 3"
    },
    "language_info": {
      "name": "python"
    }
  },
  "cells": [
    {
      "cell_type": "code",
      "execution_count": 20,
      "metadata": {
        "id": "ZbgfUjW4lP3U"
      },
      "outputs": [],
      "source": [
        "\n",
        "# Load the CSV file into a DataFrame\n",
        "path = \"/500_Reddit_users_posts_labels (1).csv\"\n"
      ]
    },
    {
      "cell_type": "code",
      "source": [
        "# Pandas DataFrame, providing a powerful and flexible tool for data manipulation and analysis in Python.\n",
        "import pandas as pd\n"
      ],
      "metadata": {
        "id": "eATSXzpZ1k0w"
      },
      "execution_count": 21,
      "outputs": []
    },
    {
      "cell_type": "code",
      "source": [
        "df = pd.read_csv(path)"
      ],
      "metadata": {
        "id": "zRgoqS7N1k8g"
      },
      "execution_count": 22,
      "outputs": []
    },
    {
      "cell_type": "code",
      "source": [
        "df.head(10)"
      ],
      "metadata": {
        "colab": {
          "base_uri": "https://localhost:8080/",
          "height": 363
        },
        "id": "R_cZWI9Y1k_v",
        "outputId": "8003370b-c6d6-45f5-ae3b-860815d1b3ae"
      },
      "execution_count": 23,
      "outputs": [
        {
          "output_type": "execute_result",
          "data": {
            "text/plain": [
              "     User                                               Post       Label\n",
              "0  user-0  ['Its not a viable option, and youll be leavin...  Supportive\n",
              "1  user-1  ['It can be hard to appreciate the notion that...    Ideation\n",
              "2  user-2  ['Hi, so last night i was sitting on the ledge...    Behavior\n",
              "3  user-3  ['I tried to kill my self once and failed badl...     Attempt\n",
              "4  user-4  ['Hi NEM3030. What sorts of things do you enjo...    Ideation\n",
              "5  user-5  ['Since I dont know what DBT is, would you min...  Supportive\n",
              "6  user-6  ['No matter what you ever think, there will be...  Supportive\n",
              "7  user-7  ['Dont see it as failing at killing yourself, ...    Ideation\n",
              "8  user-8  ['The reason I have faith in our species abili...  Supportive\n",
              "9  user-9  ['A book is usually what I do when Im getting ...    Ideation"
            ],
            "text/html": [
              "\n",
              "  <div id=\"df-7d6af915-5a6b-474c-8b96-d1f29a9cdf42\" class=\"colab-df-container\">\n",
              "    <div>\n",
              "<style scoped>\n",
              "    .dataframe tbody tr th:only-of-type {\n",
              "        vertical-align: middle;\n",
              "    }\n",
              "\n",
              "    .dataframe tbody tr th {\n",
              "        vertical-align: top;\n",
              "    }\n",
              "\n",
              "    .dataframe thead th {\n",
              "        text-align: right;\n",
              "    }\n",
              "</style>\n",
              "<table border=\"1\" class=\"dataframe\">\n",
              "  <thead>\n",
              "    <tr style=\"text-align: right;\">\n",
              "      <th></th>\n",
              "      <th>User</th>\n",
              "      <th>Post</th>\n",
              "      <th>Label</th>\n",
              "    </tr>\n",
              "  </thead>\n",
              "  <tbody>\n",
              "    <tr>\n",
              "      <th>0</th>\n",
              "      <td>user-0</td>\n",
              "      <td>['Its not a viable option, and youll be leavin...</td>\n",
              "      <td>Supportive</td>\n",
              "    </tr>\n",
              "    <tr>\n",
              "      <th>1</th>\n",
              "      <td>user-1</td>\n",
              "      <td>['It can be hard to appreciate the notion that...</td>\n",
              "      <td>Ideation</td>\n",
              "    </tr>\n",
              "    <tr>\n",
              "      <th>2</th>\n",
              "      <td>user-2</td>\n",
              "      <td>['Hi, so last night i was sitting on the ledge...</td>\n",
              "      <td>Behavior</td>\n",
              "    </tr>\n",
              "    <tr>\n",
              "      <th>3</th>\n",
              "      <td>user-3</td>\n",
              "      <td>['I tried to kill my self once and failed badl...</td>\n",
              "      <td>Attempt</td>\n",
              "    </tr>\n",
              "    <tr>\n",
              "      <th>4</th>\n",
              "      <td>user-4</td>\n",
              "      <td>['Hi NEM3030. What sorts of things do you enjo...</td>\n",
              "      <td>Ideation</td>\n",
              "    </tr>\n",
              "    <tr>\n",
              "      <th>5</th>\n",
              "      <td>user-5</td>\n",
              "      <td>['Since I dont know what DBT is, would you min...</td>\n",
              "      <td>Supportive</td>\n",
              "    </tr>\n",
              "    <tr>\n",
              "      <th>6</th>\n",
              "      <td>user-6</td>\n",
              "      <td>['No matter what you ever think, there will be...</td>\n",
              "      <td>Supportive</td>\n",
              "    </tr>\n",
              "    <tr>\n",
              "      <th>7</th>\n",
              "      <td>user-7</td>\n",
              "      <td>['Dont see it as failing at killing yourself, ...</td>\n",
              "      <td>Ideation</td>\n",
              "    </tr>\n",
              "    <tr>\n",
              "      <th>8</th>\n",
              "      <td>user-8</td>\n",
              "      <td>['The reason I have faith in our species abili...</td>\n",
              "      <td>Supportive</td>\n",
              "    </tr>\n",
              "    <tr>\n",
              "      <th>9</th>\n",
              "      <td>user-9</td>\n",
              "      <td>['A book is usually what I do when Im getting ...</td>\n",
              "      <td>Ideation</td>\n",
              "    </tr>\n",
              "  </tbody>\n",
              "</table>\n",
              "</div>\n",
              "    <div class=\"colab-df-buttons\">\n",
              "\n",
              "  <div class=\"colab-df-container\">\n",
              "    <button class=\"colab-df-convert\" onclick=\"convertToInteractive('df-7d6af915-5a6b-474c-8b96-d1f29a9cdf42')\"\n",
              "            title=\"Convert this dataframe to an interactive table.\"\n",
              "            style=\"display:none;\">\n",
              "\n",
              "  <svg xmlns=\"http://www.w3.org/2000/svg\" height=\"24px\" viewBox=\"0 -960 960 960\">\n",
              "    <path d=\"M120-120v-720h720v720H120Zm60-500h600v-160H180v160Zm220 220h160v-160H400v160Zm0 220h160v-160H400v160ZM180-400h160v-160H180v160Zm440 0h160v-160H620v160ZM180-180h160v-160H180v160Zm440 0h160v-160H620v160Z\"/>\n",
              "  </svg>\n",
              "    </button>\n",
              "\n",
              "  <style>\n",
              "    .colab-df-container {\n",
              "      display:flex;\n",
              "      gap: 12px;\n",
              "    }\n",
              "\n",
              "    .colab-df-convert {\n",
              "      background-color: #E8F0FE;\n",
              "      border: none;\n",
              "      border-radius: 50%;\n",
              "      cursor: pointer;\n",
              "      display: none;\n",
              "      fill: #1967D2;\n",
              "      height: 32px;\n",
              "      padding: 0 0 0 0;\n",
              "      width: 32px;\n",
              "    }\n",
              "\n",
              "    .colab-df-convert:hover {\n",
              "      background-color: #E2EBFA;\n",
              "      box-shadow: 0px 1px 2px rgba(60, 64, 67, 0.3), 0px 1px 3px 1px rgba(60, 64, 67, 0.15);\n",
              "      fill: #174EA6;\n",
              "    }\n",
              "\n",
              "    .colab-df-buttons div {\n",
              "      margin-bottom: 4px;\n",
              "    }\n",
              "\n",
              "    [theme=dark] .colab-df-convert {\n",
              "      background-color: #3B4455;\n",
              "      fill: #D2E3FC;\n",
              "    }\n",
              "\n",
              "    [theme=dark] .colab-df-convert:hover {\n",
              "      background-color: #434B5C;\n",
              "      box-shadow: 0px 1px 3px 1px rgba(0, 0, 0, 0.15);\n",
              "      filter: drop-shadow(0px 1px 2px rgba(0, 0, 0, 0.3));\n",
              "      fill: #FFFFFF;\n",
              "    }\n",
              "  </style>\n",
              "\n",
              "    <script>\n",
              "      const buttonEl =\n",
              "        document.querySelector('#df-7d6af915-5a6b-474c-8b96-d1f29a9cdf42 button.colab-df-convert');\n",
              "      buttonEl.style.display =\n",
              "        google.colab.kernel.accessAllowed ? 'block' : 'none';\n",
              "\n",
              "      async function convertToInteractive(key) {\n",
              "        const element = document.querySelector('#df-7d6af915-5a6b-474c-8b96-d1f29a9cdf42');\n",
              "        const dataTable =\n",
              "          await google.colab.kernel.invokeFunction('convertToInteractive',\n",
              "                                                    [key], {});\n",
              "        if (!dataTable) return;\n",
              "\n",
              "        const docLinkHtml = 'Like what you see? Visit the ' +\n",
              "          '<a target=\"_blank\" href=https://colab.research.google.com/notebooks/data_table.ipynb>data table notebook</a>'\n",
              "          + ' to learn more about interactive tables.';\n",
              "        element.innerHTML = '';\n",
              "        dataTable['output_type'] = 'display_data';\n",
              "        await google.colab.output.renderOutput(dataTable, element);\n",
              "        const docLink = document.createElement('div');\n",
              "        docLink.innerHTML = docLinkHtml;\n",
              "        element.appendChild(docLink);\n",
              "      }\n",
              "    </script>\n",
              "  </div>\n",
              "\n",
              "\n",
              "<div id=\"df-f20e7dc8-3d6d-4b74-af79-0daba55cccf5\">\n",
              "  <button class=\"colab-df-quickchart\" onclick=\"quickchart('df-f20e7dc8-3d6d-4b74-af79-0daba55cccf5')\"\n",
              "            title=\"Suggest charts\"\n",
              "            style=\"display:none;\">\n",
              "\n",
              "<svg xmlns=\"http://www.w3.org/2000/svg\" height=\"24px\"viewBox=\"0 0 24 24\"\n",
              "     width=\"24px\">\n",
              "    <g>\n",
              "        <path d=\"M19 3H5c-1.1 0-2 .9-2 2v14c0 1.1.9 2 2 2h14c1.1 0 2-.9 2-2V5c0-1.1-.9-2-2-2zM9 17H7v-7h2v7zm4 0h-2V7h2v10zm4 0h-2v-4h2v4z\"/>\n",
              "    </g>\n",
              "</svg>\n",
              "  </button>\n",
              "\n",
              "<style>\n",
              "  .colab-df-quickchart {\n",
              "      --bg-color: #E8F0FE;\n",
              "      --fill-color: #1967D2;\n",
              "      --hover-bg-color: #E2EBFA;\n",
              "      --hover-fill-color: #174EA6;\n",
              "      --disabled-fill-color: #AAA;\n",
              "      --disabled-bg-color: #DDD;\n",
              "  }\n",
              "\n",
              "  [theme=dark] .colab-df-quickchart {\n",
              "      --bg-color: #3B4455;\n",
              "      --fill-color: #D2E3FC;\n",
              "      --hover-bg-color: #434B5C;\n",
              "      --hover-fill-color: #FFFFFF;\n",
              "      --disabled-bg-color: #3B4455;\n",
              "      --disabled-fill-color: #666;\n",
              "  }\n",
              "\n",
              "  .colab-df-quickchart {\n",
              "    background-color: var(--bg-color);\n",
              "    border: none;\n",
              "    border-radius: 50%;\n",
              "    cursor: pointer;\n",
              "    display: none;\n",
              "    fill: var(--fill-color);\n",
              "    height: 32px;\n",
              "    padding: 0;\n",
              "    width: 32px;\n",
              "  }\n",
              "\n",
              "  .colab-df-quickchart:hover {\n",
              "    background-color: var(--hover-bg-color);\n",
              "    box-shadow: 0 1px 2px rgba(60, 64, 67, 0.3), 0 1px 3px 1px rgba(60, 64, 67, 0.15);\n",
              "    fill: var(--button-hover-fill-color);\n",
              "  }\n",
              "\n",
              "  .colab-df-quickchart-complete:disabled,\n",
              "  .colab-df-quickchart-complete:disabled:hover {\n",
              "    background-color: var(--disabled-bg-color);\n",
              "    fill: var(--disabled-fill-color);\n",
              "    box-shadow: none;\n",
              "  }\n",
              "\n",
              "  .colab-df-spinner {\n",
              "    border: 2px solid var(--fill-color);\n",
              "    border-color: transparent;\n",
              "    border-bottom-color: var(--fill-color);\n",
              "    animation:\n",
              "      spin 1s steps(1) infinite;\n",
              "  }\n",
              "\n",
              "  @keyframes spin {\n",
              "    0% {\n",
              "      border-color: transparent;\n",
              "      border-bottom-color: var(--fill-color);\n",
              "      border-left-color: var(--fill-color);\n",
              "    }\n",
              "    20% {\n",
              "      border-color: transparent;\n",
              "      border-left-color: var(--fill-color);\n",
              "      border-top-color: var(--fill-color);\n",
              "    }\n",
              "    30% {\n",
              "      border-color: transparent;\n",
              "      border-left-color: var(--fill-color);\n",
              "      border-top-color: var(--fill-color);\n",
              "      border-right-color: var(--fill-color);\n",
              "    }\n",
              "    40% {\n",
              "      border-color: transparent;\n",
              "      border-right-color: var(--fill-color);\n",
              "      border-top-color: var(--fill-color);\n",
              "    }\n",
              "    60% {\n",
              "      border-color: transparent;\n",
              "      border-right-color: var(--fill-color);\n",
              "    }\n",
              "    80% {\n",
              "      border-color: transparent;\n",
              "      border-right-color: var(--fill-color);\n",
              "      border-bottom-color: var(--fill-color);\n",
              "    }\n",
              "    90% {\n",
              "      border-color: transparent;\n",
              "      border-bottom-color: var(--fill-color);\n",
              "    }\n",
              "  }\n",
              "</style>\n",
              "\n",
              "  <script>\n",
              "    async function quickchart(key) {\n",
              "      const quickchartButtonEl =\n",
              "        document.querySelector('#' + key + ' button');\n",
              "      quickchartButtonEl.disabled = true;  // To prevent multiple clicks.\n",
              "      quickchartButtonEl.classList.add('colab-df-spinner');\n",
              "      try {\n",
              "        const charts = await google.colab.kernel.invokeFunction(\n",
              "            'suggestCharts', [key], {});\n",
              "      } catch (error) {\n",
              "        console.error('Error during call to suggestCharts:', error);\n",
              "      }\n",
              "      quickchartButtonEl.classList.remove('colab-df-spinner');\n",
              "      quickchartButtonEl.classList.add('colab-df-quickchart-complete');\n",
              "    }\n",
              "    (() => {\n",
              "      let quickchartButtonEl =\n",
              "        document.querySelector('#df-f20e7dc8-3d6d-4b74-af79-0daba55cccf5 button');\n",
              "      quickchartButtonEl.style.display =\n",
              "        google.colab.kernel.accessAllowed ? 'block' : 'none';\n",
              "    })();\n",
              "  </script>\n",
              "</div>\n",
              "\n",
              "    </div>\n",
              "  </div>\n"
            ]
          },
          "metadata": {},
          "execution_count": 23
        }
      ]
    },
    {
      "cell_type": "code",
      "source": [
        "# trying to find missing values"
      ],
      "metadata": {
        "id": "T3Xx_G1b13Hd"
      },
      "execution_count": 48,
      "outputs": []
    },
    {
      "cell_type": "code",
      "source": [
        "df.isnull().sum()"
      ],
      "metadata": {
        "colab": {
          "base_uri": "https://localhost:8080/"
        },
        "id": "z-GVwOXb13Ks",
        "outputId": "ef823bf2-5778-45e9-d132-8d5abc995bad"
      },
      "execution_count": 24,
      "outputs": [
        {
          "output_type": "execute_result",
          "data": {
            "text/plain": [
              "User     0\n",
              "Post     0\n",
              "Label    0\n",
              "dtype: int64"
            ]
          },
          "metadata": {},
          "execution_count": 24
        }
      ]
    },
    {
      "cell_type": "code",
      "source": [
        "# Let's check for duplicate values.\n",
        "df.duplicated().sum()"
      ],
      "metadata": {
        "colab": {
          "base_uri": "https://localhost:8080/"
        },
        "id": "0Apf2JLH13Ns",
        "outputId": "695cb515-76ba-4ccf-e8e2-d9a4369f0b48"
      },
      "execution_count": 25,
      "outputs": [
        {
          "output_type": "execute_result",
          "data": {
            "text/plain": [
              "0"
            ]
          },
          "metadata": {},
          "execution_count": 25
        }
      ]
    },
    {
      "cell_type": "code",
      "source": [
        "df.shape"
      ],
      "metadata": {
        "colab": {
          "base_uri": "https://localhost:8080/"
        },
        "id": "1UqIhUed13Qc",
        "outputId": "00d22196-afed-45f3-f049-52604c4a32cb"
      },
      "execution_count": 26,
      "outputs": [
        {
          "output_type": "execute_result",
          "data": {
            "text/plain": [
              "(500, 3)"
            ]
          },
          "metadata": {},
          "execution_count": 26
        }
      ]
    },
    {
      "cell_type": "code",
      "source": [
        "\n"
      ],
      "metadata": {
        "id": "izGrAPiS13TL"
      },
      "execution_count": 52,
      "outputs": []
    },
    {
      "cell_type": "code",
      "source": [
        "#visualization of the data\n",
        "# Assuming you have loaded or created your DataFrame\n",
        "_df_0 = pd.read_csv('/500_Reddit_users_posts_labels (1).csv')\n",
        "\n",
        "# Visualization of the data\n",
        "from matplotlib import pyplot as plt\n",
        "import seaborn as sns\n",
        "\n",
        "_df_0.groupby('Label').size().plot(kind='barh', color=sns.palettes.mpl_palette('Dark2'))\n",
        "plt.gca().spines[['top', 'right']].set_visible(False)\n"
      ],
      "metadata": {
        "colab": {
          "base_uri": "https://localhost:8080/",
          "height": 430
        },
        "id": "2fqBNQW313V-",
        "outputId": "669a4535-263c-4b6f-a4ba-46da18c034b0"
      },
      "execution_count": 28,
      "outputs": [
        {
          "output_type": "display_data",
          "data": {
            "text/plain": [
              "<Figure size 640x480 with 1 Axes>"
            ],
            "image/png": "[encoded data removed]"
          },
          "metadata": {}
        }
      ]
    },
    {
      "cell_type": "code",
      "source": [
        "#the count of unique values in the 'Label' column of the DataFrame df\n",
        "df['Label'].value_counts()"
      ],
      "metadata": {
        "colab": {
          "base_uri": "https://localhost:8080/"
        },
        "id": "EPwBSZd613Y7",
        "outputId": "8b9f1884-3c33-41b4-d3dc-b85661d038e3"
      },
      "execution_count": 29,
      "outputs": [
        {
          "output_type": "execute_result",
          "data": {
            "text/plain": [
              "Ideation      171\n",
              "Supportive    108\n",
              "Indicator      99\n",
              "Behavior       77\n",
              "Attempt        45\n",
              "Name: Label, dtype: int64"
            ]
          },
          "metadata": {},
          "execution_count": 29
        }
      ]
    },
    {
      "cell_type": "code",
      "source": [
        "import matplotlib.pyplot as plt\n",
        "\n",
        "\n",
        "labels = df['Label'].value_counts().index\n",
        "sizes = df['Label'].value_counts()\n",
        "\n",
        "plt.pie(sizes, labels=labels, autopct=\"%0.2f\")\n",
        "plt.show()\n"
      ],
      "metadata": {
        "colab": {
          "base_uri": "https://localhost:8080/",
          "height": 406
        },
        "id": "U6JwX4hk_3We",
        "outputId": "a4238cc6-61e1-4ffa-d913-2017718f69d2"
      },
      "execution_count": 30,
      "outputs": [
        {
          "output_type": "display_data",
          "data": {
            "text/plain": [
              "<Figure size 640x480 with 1 Axes>"
            ],
            "image/png": "[encoded data removed]"
          },
          "metadata": {}
        }
      ]
    },
    {
      "cell_type": "code",
      "source": [
        "#. Data Preprocessing:"
      ],
      "metadata": {
        "id": "WVNBLRuf_3bf"
      },
      "execution_count": 55,
      "outputs": []
    },
    {
      "cell_type": "code",
      "source": [
        " #this code imports the necessary libraries such as cleaning, tokenization, and stemming/lemmatization, commonly used in natural language processing (NLP) and text mining applications\n",
        "import pandas as pd\n",
        "import nltk\n",
        "from nltk.corpus import stopwords\n",
        "from nltk.tokenize import word_tokenize\n",
        "from nltk.stem import PorterStemmer, WordNetLemmatizer\n",
        "import string\n",
        "\n"
      ],
      "metadata": {
        "id": "lgsSf7Hc_3d9"
      },
      "execution_count": 31,
      "outputs": []
    },
    {
      "cell_type": "code",
      "source": [
        "# Download NLTK resources\n",
        "nltk.download('punkt')\n",
        "nltk.download('stopwords')\n",
        "nltk.download('wordnet')"
      ],
      "metadata": {
        "colab": {
          "base_uri": "https://localhost:8080/"
        },
        "id": "6VyNdXeW_3gc",
        "outputId": "cde5eb07-e11a-4f9d-aff0-0c6499de4b8d"
      },
      "execution_count": 32,
      "outputs": [
        {
          "output_type": "stream",
          "name": "stderr",
          "text": [
            "[nltk_data] Downloading package punkt to /root/nltk_data...\n",
            "[nltk_data]   Package punkt is already up-to-date!\n",
            "[nltk_data] Downloading package stopwords to /root/nltk_data...\n",
            "[nltk_data]   Package stopwords is already up-to-date!\n",
            "[nltk_data] Downloading package wordnet to /root/nltk_data...\n",
            "[nltk_data]   Package wordnet is already up-to-date!\n"
          ]
        },
        {
          "output_type": "execute_result",
          "data": {
            "text/plain": [
              "True"
            ]
          },
          "metadata": {},
          "execution_count": 32
        }
      ]
    },
    {
      "cell_type": "code",
      "source": [
        "df = pd.read_csv('/500_Reddit_users_posts_labels (1).csv')\n",
        "\n",
        "# Function for text preprocessing\n",
        "def preprocess_text(text):\n",
        "    # Convert to lowercase\n",
        "    text = text.lower()\n",
        "\n",
        "    # Remove special characters and digits\n",
        "    text = ''.join([char for char in text if char.isalpha() or char.isspace()])\n",
        "\n",
        "    # Tokenization\n",
        "    tokens = word_tokenize(text)\n",
        "\n",
        "    # Remove stop words\n",
        "    stop_words = set(stopwords.words('english'))\n",
        "    tokens = [word for word in tokens if word not in stop_words]\n",
        "\n",
        "    # Lemmatization\n",
        "    lemmatizer = WordNetLemmatizer()\n",
        "    tokens = [lemmatizer.lemmatize(word) for word in tokens]\n",
        "\n",
        "    # Alternatively, you can use stemming\n",
        "    # stemmer = PorterStemmer()\n",
        "    # tokens = [stemmer.stem(word) for word in tokens]\n",
        "\n",
        "    # Join the tokens back into a string\n",
        "    preprocessed_text = ' '.join(tokens)\n",
        "\n",
        "    return preprocessed_text"
      ],
      "metadata": {
        "id": "Inmi9RtwK-DA"
      },
      "execution_count": 33,
      "outputs": []
    },
    {
      "cell_type": "code",
      "source": [
        "df['Preprocessed_Post'] = df['Post'].apply(preprocess_text)\n",
        "\n",
        "# Display the preprocessed data\n",
        "print(df[['Post', 'Preprocessed_Post']].head())"
      ],
      "metadata": {
        "colab": {
          "base_uri": "https://localhost:8080/"
        },
        "id": "VfXG8-FgK-Fv",
        "outputId": "ddeb063d-c913-48cb-eb23-3a1b5ae22128"
      },
      "execution_count": 34,
      "outputs": [
        {
          "output_type": "stream",
          "name": "stdout",
          "text": [
            "                                                Post  \\\n",
            "0  ['Its not a viable option, and youll be leavin...   \n",
            "1  ['It can be hard to appreciate the notion that...   \n",
            "2  ['Hi, so last night i was sitting on the ledge...   \n",
            "3  ['I tried to kill my self once and failed badl...   \n",
            "4  ['Hi NEM3030. What sorts of things do you enjo...   \n",
            "\n",
            "                                   Preprocessed_Post  \n",
            "0  viable option youll leaving wife behind youd p...  \n",
            "1  hard appreciate notion could meet someone else...  \n",
            "2  hi last night sitting ledge window contemplati...  \n",
            "3  tried kill self failed badly cause moment want...  \n",
            "4  hi nem sort thing enjoy personally always welc...  \n"
          ]
        }
      ]
    },
    {
      "cell_type": "code",
      "source": [
        "# model building.\n",
        "import pandas as pd\n",
        "from sklearn.model_selection import train_test_split\n",
        "from keras.preprocessing.text import Tokenizer\n",
        "from keras.preprocessing.sequence import pad_sequences\n",
        "from keras.models import Sequential\n",
        "from keras.layers import Embedding, LSTM, Dense\n",
        "from nltk.tokenize import word_tokenize\n",
        "from nltk.corpus import stopwords\n",
        "from nltk.stem import WordNetLemmatizer\n",
        "import nltk\n",
        "\n",
        "# Download NLTK resources\n",
        "nltk.download('punkt')\n",
        "nltk.download('stopwords')\n",
        "nltk.download('wordnet')"
      ],
      "metadata": {
        "colab": {
          "base_uri": "https://localhost:8080/"
        },
        "id": "s0ZXXy0tgB-A",
        "outputId": "d8f92c96-2563-4353-c87d-ad10c86a86cc"
      },
      "execution_count": 37,
      "outputs": [
        {
          "output_type": "stream",
          "name": "stderr",
          "text": [
            "[nltk_data] Downloading package punkt to /root/nltk_data...\n",
            "[nltk_data]   Package punkt is already up-to-date!\n",
            "[nltk_data] Downloading package stopwords to /root/nltk_data...\n",
            "[nltk_data]   Package stopwords is already up-to-date!\n",
            "[nltk_data] Downloading package wordnet to /root/nltk_data...\n",
            "[nltk_data]   Package wordnet is already up-to-date!\n"
          ]
        },
        {
          "output_type": "execute_result",
          "data": {
            "text/plain": [
              "True"
            ]
          },
          "metadata": {},
          "execution_count": 37
        }
      ]
    },
    {
      "cell_type": "code",
      "source": [
        "\n",
        "# Load the dataset\n",
        "df = pd.read_csv('/500_Reddit_users_posts_labels (1).csv')"
      ],
      "metadata": {
        "id": "YzHkdPQHgCJf"
      },
      "execution_count": 38,
      "outputs": []
    },
    {
      "cell_type": "code",
      "source": [
        "# Function for text preprocessing\n",
        "def preprocess_text(text):\n",
        "    text = text.lower()\n",
        "    text = ''.join([char for char in text if char.isalpha() or char.isspace()])\n",
        "    tokens = word_tokenize(text)\n",
        "    stop_words = set(stopwords.words('english'))\n",
        "    tokens = [word for word in tokens if word not in stop_words]\n",
        "    lemmatizer = WordNetLemmatizer()\n",
        "    tokens = [lemmatizer.lemmatize(word) for word in tokens]\n",
        "    preprocessed_text = ' '.join(tokens)\n",
        "    return preprocessed_text"
      ],
      "metadata": {
        "id": "vS9Yq1QBgCRA"
      },
      "execution_count": 39,
      "outputs": []
    },
    {
      "cell_type": "code",
      "source": [
        "\n",
        "# Apply the preprocessing function to the 'Post' column\n",
        "df['Preprocessed_Post'] = df['Post'].apply(preprocess_text)"
      ],
      "metadata": {
        "id": "rZALFDzwgCW5"
      },
      "execution_count": 40,
      "outputs": []
    },
    {
      "cell_type": "code",
      "source": [
        "\n",
        "# Convert labels to integer type\n",
        "df['Label'] = df['Label'].astype('category').cat.codes"
      ],
      "metadata": {
        "id": "eivf27Dal4zu"
      },
      "execution_count": 41,
      "outputs": []
    },
    {
      "cell_type": "code",
      "source": [
        "# Split the data into training and testing sets\n",
        "train_data, test_data, train_labels, test_labels = train_test_split(\n",
        "    df['Preprocessed_Post'], df['Label'], test_size=0.1, random_state=42\n",
        ")"
      ],
      "metadata": {
        "id": "OXkHgB2vl44v"
      },
      "execution_count": 42,
      "outputs": []
    },
    {
      "cell_type": "code",
      "source": [
        "# Tokenize the text data\n",
        "max_words = 10000\n",
        "tokenizer = Tokenizer(num_words=max_words)\n",
        "tokenizer.fit_on_texts(train_data)"
      ],
      "metadata": {
        "id": "KhF8MeMsl49w"
      },
      "execution_count": 43,
      "outputs": []
    },
    {
      "cell_type": "code",
      "source": [
        "# Convert text data to sequences\n",
        "train_sequences = tokenizer.texts_to_sequences(train_data)\n",
        "test_sequences = tokenizer.texts_to_sequences(test_data)"
      ],
      "metadata": {
        "id": "7UEuOtdul5CF"
      },
      "execution_count": 44,
      "outputs": []
    },
    {
      "cell_type": "code",
      "source": [
        "\n",
        "# Pad sequences to have the same length\n",
        "max_sequence_length = 100\n",
        "train_data_padded = pad_sequences(train_sequences, maxlen=max_sequence_length)\n",
        "test_data_padded = pad_sequences(test_sequences, maxlen=max_sequence_length)"
      ],
      "metadata": {
        "id": "N5I2KTZYm0l8"
      },
      "execution_count": 45,
      "outputs": []
    },
    {
      "cell_type": "code",
      "source": [
        "# Build the LSTM model\n",
        "embedding_dim = 50\n",
        "model = Sequential()\n",
        "model.add(Embedding(input_dim=max_words, output_dim=embedding_dim, input_length=max_sequence_length))\n",
        "model.add(LSTM(50))\n",
        "model.add(Dense(5, activation='softmax'))"
      ],
      "metadata": {
        "id": "BdOQskxYm0uE"
      },
      "execution_count": 46,
      "outputs": []
    },
    {
      "cell_type": "code",
      "source": [
        "\n",
        "# Compile the model\n",
        "model.compile(optimizer='adam', loss='sparse_categorical_crossentropy', metrics=['accuracy'])"
      ],
      "metadata": {
        "id": "4JJsfBVsm00U"
      },
      "execution_count": 47,
      "outputs": []
    },
    {
      "cell_type": "code",
      "source": [
        "# Train the model\n",
        "model.fit(train_data_padded, train_labels, epochs=2, validation_split=0.1)\n",
        "#2 epochs because val_accuracy: 0.4000\n"
      ],
      "metadata": {
        "colab": {
          "base_uri": "https://localhost:8080/"
        },
        "id": "zd2o-3vYm06G",
        "outputId": "8911cf2c-3a38-4058-bb37-d1dc0b7d4cf4"
      },
      "execution_count": 48,
      "outputs": [
        {
          "output_type": "stream",
          "name": "stdout",
          "text": [
            "Epoch 1/2\n",
            "13/13 [==============================] - 3s 106ms/step - loss: 1.5979 - accuracy: 0.3160 - val_loss: 1.5676 - val_accuracy: 0.4000\n",
            "Epoch 2/2\n",
            "13/13 [==============================] - 1s 56ms/step - loss: 1.5238 - accuracy: 0.3481 - val_loss: 1.4981 - val_accuracy: 0.4000\n"
          ]
        },
        {
          "output_type": "execute_result",
          "data": {
            "text/plain": [
              "<keras.src.callbacks.History at 0x7da375db9f00>"
            ]
          },
          "metadata": {},
          "execution_count": 48
        }
      ]
    },
    {
      "cell_type": "code",
      "source": [
        "# Evaluate the model on the test set\n",
        "accuracy = model.evaluate(test_data_padded, test_labels)[1]\n",
        "print(f\"Test Accuracy: {accuracy}\")"
      ],
      "metadata": {
        "colab": {
          "base_uri": "https://localhost:8080/"
        },
        "id": "6HlVRw3Xm0_2",
        "outputId": "330669cd-1bdb-4bfe-bd69-729a53d978a9"
      },
      "execution_count": 49,
      "outputs": [
        {
          "output_type": "stream",
          "name": "stdout",
          "text": [
            "2/2 [==============================] - 0s 17ms/step - loss: 1.6192 - accuracy: 0.2400\n",
            "Test Accuracy: 0.23999999463558197\n"
          ]
        }
      ]
    },
    {
      "cell_type": "code",
      "source": [
        "# Example definition of 'new_data' as a list of strings\n",
        "new_data = ['life. Many of my friends have chosen the military because they believe its a character-shaping experience. I dont know if I put that well. Read about [Ludwig Wittgenstein](http://en.wikipedia.org/wiki/Ludwig_Wittgenstein). Ive always found amazing and brave the fact that he volunteered for WWI because he thought (Im quoting my textbook, I had to take it out just to write this) the experience of confrontation with death perfects and ennobles men.*hugs him***EDIT:** Also, you should find something that makes you feel calm, something that relieves you from Stress, and do it constantly, get better at it. For me is the piano. I cant sit alone and play it with headphones for hours, and no matter whatever it was I should be doing at that moment, I never regret time spent playing. Also, Im not Tired good at it, but Im the one whos listening to it, and thats all I care about. I dont think you need to be good at doing something to enjoy the hell out of it. That, and masturbation. But I cant get *better* at jerking off, so it isnt as exciting and engaging. Thats why I dont think smoking pot is a good idea, at least not something you should do all the time. Get a hobby you can practice by yourself and not be bothered by anyone, and smoke some pot and jerk off every once in a while. Sounds depressing, but if Stress is what youre going through, Ive found theres no better thing to do than to keep yourself entertained and/or occupied. Sorry for long text, I hope its helped in any way.', 'Heres a hug from a fellow gay person going through somewhat similar (actually, pretty similar) circumstances. *internet hug*. Im not gonna rant about my life, but I want you to know youre not alone out there. If you want to talk, Ive got lots of things to say, Ill be right here. PM me if you like']\n"
      ],
      "metadata": {
        "id": "JLfsILfJoFoE"
      },
      "execution_count": 50,
      "outputs": []
    },
    {
      "cell_type": "code",
      "source": [
        "# Preprocess the new data\n",
        "new_data_sequences = tokenizer.texts_to_sequences(new_data)\n",
        "new_data_padded = pad_sequences(new_data_sequences, maxlen=max_sequence_length)"
      ],
      "metadata": {
        "id": "UF7SXABnoFxe"
      },
      "execution_count": 51,
      "outputs": []
    },
    {
      "cell_type": "code",
      "source": [
        "# Make predictions\n",
        "predictions = model.predict(new_data_padded)\n",
        "\n",
        "# Convert predicted probabilities to class labels\n",
        "predicted_labels = [int(round(prediction.argmax())) for prediction in predictions]\n",
        "\n",
        "# Display the predicted labels\n",
        "print(\"Predicted Labels:\", predicted_labels)"
      ],
      "metadata": {
        "colab": {
          "base_uri": "https://localhost:8080/"
        },
        "id": "yCO8lp9goF5A",
        "outputId": "cd4a93ee-d063-49f7-8578-a193ea273ee4"
      },
      "execution_count": 52,
      "outputs": [
        {
          "output_type": "stream",
          "name": "stdout",
          "text": [
            "1/1 [==============================] - 0s 467ms/step\n",
            "Predicted Labels: [2, 2]\n"
          ]
        }
      ]
    },
    {
      "cell_type": "code",
      "source": [
        "# Define a mapping dictionary\n",
        "class_mapping = {\n",
        "    0: 'Supportive',\n",
        "    1: 'Indicator',\n",
        "    2: 'Ideation',\n",
        "    3: 'Behaviour',\n",
        "    4: 'Attempt'\n",
        "}\n",
        "\n",
        "# Map predicted labels to class names\n",
        "predicted_class_names = [class_mapping[label] for label in predicted_labels]\n",
        "\n",
        "# Display the mapped class names\n",
        "print(\"Mapped Predicted Class Names:\", predicted_class_names)\n"
      ],
      "metadata": {
        "colab": {
          "base_uri": "https://localhost:8080/"
        },
        "id": "3QKVR_2iXXlG",
        "outputId": "04422062-c1d6-4da9-b0b1-5257c53a3063"
      },
      "execution_count": 94,
      "outputs": [
        {
          "output_type": "stream",
          "name": "stdout",
          "text": [
            "Mapped Predicted Class Names: ['Ideation', 'Attempt']\n"
          ]
        }
      ]
    },
    {
      "cell_type": "code",
      "source": [],
      "metadata": {
        "id": "hJ7VtP5_XXoY"
      },
      "execution_count": null,
      "outputs": []
    },
    {
      "cell_type": "code",
      "source": [],
      "metadata": {
        "id": "4klGosMxXXr5"
      },
      "execution_count": null,
      "outputs": []
    }
  ]
}